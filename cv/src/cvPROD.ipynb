{
  "nbformat": 4,
  "nbformat_minor": 0,
  "metadata": {
    "colab": {
      "provenance": [],
      "gpuType": "T4"
    },
    "kernelspec": {
      "name": "python3",
      "display_name": "Python 3"
    },
    "language_info": {
      "name": "python"
    },
    "accelerator": "GPU"
  },
  "cells": [
    {
      "cell_type": "markdown",
      "source": [
        "After running pip install pyngrok, go on terminal directory content and proceed to use these two commands to set up ngrok tunnelling\n",
        "\n",
        "\n",
        "ngrok config add-authtoken 2ea0BVvbiDsWN7qKDcI1XD7UAPe_3nDgknKwJhpgK31pQxfBd\n",
        "\n",
        "\n",
        "ngrok http --domain=humpback-smart-gently.ngrok-free.app 5000\n"
      ],
      "metadata": {
        "id": "elZK7oSRwHvj"
      }
    },
    {
      "cell_type": "code",
      "source": [
        "!pip install pyngrok\n",
        "!pip install flask-cors"
      ],
      "metadata": {
        "colab": {
          "base_uri": "https://localhost:8080/"
        },
        "id": "lOsvY1caNd11",
        "outputId": "9b5538f5-41f6-484c-e202-a571a10ca9de"
      },
      "execution_count": 1,
      "outputs": [
        {
          "output_type": "stream",
          "name": "stdout",
          "text": [
            "Collecting pyngrok\n",
            "  Downloading pyngrok-7.1.6-py3-none-any.whl (22 kB)\n",
            "Requirement already satisfied: PyYAML>=5.1 in /usr/local/lib/python3.10/dist-packages (from pyngrok) (6.0.1)\n",
            "Installing collected packages: pyngrok\n",
            "Successfully installed pyngrok-7.1.6\n",
            "Collecting flask-cors\n",
            "  Downloading Flask_Cors-4.0.0-py2.py3-none-any.whl (14 kB)\n",
            "Requirement already satisfied: Flask>=0.9 in /usr/local/lib/python3.10/dist-packages (from flask-cors) (2.2.5)\n",
            "Requirement already satisfied: Werkzeug>=2.2.2 in /usr/local/lib/python3.10/dist-packages (from Flask>=0.9->flask-cors) (3.0.2)\n",
            "Requirement already satisfied: Jinja2>=3.0 in /usr/local/lib/python3.10/dist-packages (from Flask>=0.9->flask-cors) (3.1.3)\n",
            "Requirement already satisfied: itsdangerous>=2.0 in /usr/local/lib/python3.10/dist-packages (from Flask>=0.9->flask-cors) (2.1.2)\n",
            "Requirement already satisfied: click>=8.0 in /usr/local/lib/python3.10/dist-packages (from Flask>=0.9->flask-cors) (8.1.7)\n",
            "Requirement already satisfied: MarkupSafe>=2.0 in /usr/local/lib/python3.10/dist-packages (from Jinja2>=3.0->Flask>=0.9->flask-cors) (2.1.5)\n",
            "Installing collected packages: flask-cors\n",
            "Successfully installed flask-cors-4.0.0\n"
          ]
        }
      ]
    },
    {
      "cell_type": "code",
      "source": [
        "!pip install -r /content/drive/MyDrive/requirements.txt"
      ],
      "metadata": {
        "colab": {
          "base_uri": "https://localhost:8080/"
        },
        "id": "HvZP0cbOMLBP",
        "outputId": "91d24cbc-6d7a-463e-8197-319b253b27b2"
      },
      "execution_count": 2,
      "outputs": [
        {
          "output_type": "stream",
          "name": "stdout",
          "text": [
            "Collecting bson (from -r /content/drive/MyDrive/requirements.txt (line 1))\n",
            "  Downloading bson-0.5.10.tar.gz (10 kB)\n",
            "  Preparing metadata (setup.py) ... \u001b[?25l\u001b[?25hdone\n",
            "Requirement already satisfied: tensorflow in /usr/local/lib/python3.10/dist-packages (from -r /content/drive/MyDrive/requirements.txt (line 2)) (2.15.0)\n",
            "Collecting tf2-yolov4 (from -r /content/drive/MyDrive/requirements.txt (line 3))\n",
            "  Downloading tf2_yolov4-0.1.0-py3-none-any.whl (17 kB)\n",
            "Requirement already satisfied: matplotlib in /usr/local/lib/python3.10/dist-packages (from -r /content/drive/MyDrive/requirements.txt (line 4)) (3.7.1)\n",
            "Requirement already satisfied: opencv-python in /usr/local/lib/python3.10/dist-packages (from -r /content/drive/MyDrive/requirements.txt (line 5)) (4.8.0.76)\n",
            "Collecting dnspython==2.5.0 (from -r /content/drive/MyDrive/requirements.txt (line 6))\n",
            "  Downloading dnspython-2.5.0-py3-none-any.whl (305 kB)\n",
            "\u001b[2K     \u001b[90m━━━━━━━━━━━━━━━━━━━━━━━━━━━━━━━━━━━━━━━━\u001b[0m \u001b[32m305.4/305.4 kB\u001b[0m \u001b[31m9.2 MB/s\u001b[0m eta \u001b[36m0:00:00\u001b[0m\n",
            "\u001b[?25hCollecting python-dotenv==1.0.1 (from -r /content/drive/MyDrive/requirements.txt (line 7))\n",
            "  Downloading python_dotenv-1.0.1-py3-none-any.whl (19 kB)\n",
            "Requirement already satisfied: flask in /usr/local/lib/python3.10/dist-packages (from -r /content/drive/MyDrive/requirements.txt (line 8)) (2.2.5)\n",
            "Requirement already satisfied: requests in /usr/local/lib/python3.10/dist-packages (from -r /content/drive/MyDrive/requirements.txt (line 9)) (2.31.0)\n",
            "Requirement already satisfied: pillow in /usr/local/lib/python3.10/dist-packages (from -r /content/drive/MyDrive/requirements.txt (line 10)) (9.4.0)\n",
            "Requirement already satisfied: python-dateutil>=2.4.0 in /usr/local/lib/python3.10/dist-packages (from bson->-r /content/drive/MyDrive/requirements.txt (line 1)) (2.8.2)\n",
            "Requirement already satisfied: six>=1.9.0 in /usr/local/lib/python3.10/dist-packages (from bson->-r /content/drive/MyDrive/requirements.txt (line 1)) (1.16.0)\n",
            "Requirement already satisfied: absl-py>=1.0.0 in /usr/local/lib/python3.10/dist-packages (from tensorflow->-r /content/drive/MyDrive/requirements.txt (line 2)) (1.4.0)\n",
            "Requirement already satisfied: astunparse>=1.6.0 in /usr/local/lib/python3.10/dist-packages (from tensorflow->-r /content/drive/MyDrive/requirements.txt (line 2)) (1.6.3)\n",
            "Requirement already satisfied: flatbuffers>=23.5.26 in /usr/local/lib/python3.10/dist-packages (from tensorflow->-r /content/drive/MyDrive/requirements.txt (line 2)) (24.3.25)\n",
            "Requirement already satisfied: gast!=0.5.0,!=0.5.1,!=0.5.2,>=0.2.1 in /usr/local/lib/python3.10/dist-packages (from tensorflow->-r /content/drive/MyDrive/requirements.txt (line 2)) (0.5.4)\n",
            "Requirement already satisfied: google-pasta>=0.1.1 in /usr/local/lib/python3.10/dist-packages (from tensorflow->-r /content/drive/MyDrive/requirements.txt (line 2)) (0.2.0)\n",
            "Requirement already satisfied: h5py>=2.9.0 in /usr/local/lib/python3.10/dist-packages (from tensorflow->-r /content/drive/MyDrive/requirements.txt (line 2)) (3.9.0)\n",
            "Requirement already satisfied: libclang>=13.0.0 in /usr/local/lib/python3.10/dist-packages (from tensorflow->-r /content/drive/MyDrive/requirements.txt (line 2)) (18.1.1)\n",
            "Requirement already satisfied: ml-dtypes~=0.2.0 in /usr/local/lib/python3.10/dist-packages (from tensorflow->-r /content/drive/MyDrive/requirements.txt (line 2)) (0.2.0)\n",
            "Requirement already satisfied: numpy<2.0.0,>=1.23.5 in /usr/local/lib/python3.10/dist-packages (from tensorflow->-r /content/drive/MyDrive/requirements.txt (line 2)) (1.25.2)\n",
            "Requirement already satisfied: opt-einsum>=2.3.2 in /usr/local/lib/python3.10/dist-packages (from tensorflow->-r /content/drive/MyDrive/requirements.txt (line 2)) (3.3.0)\n",
            "Requirement already satisfied: packaging in /usr/local/lib/python3.10/dist-packages (from tensorflow->-r /content/drive/MyDrive/requirements.txt (line 2)) (24.0)\n",
            "Requirement already satisfied: protobuf!=4.21.0,!=4.21.1,!=4.21.2,!=4.21.3,!=4.21.4,!=4.21.5,<5.0.0dev,>=3.20.3 in /usr/local/lib/python3.10/dist-packages (from tensorflow->-r /content/drive/MyDrive/requirements.txt (line 2)) (3.20.3)\n",
            "Requirement already satisfied: setuptools in /usr/local/lib/python3.10/dist-packages (from tensorflow->-r /content/drive/MyDrive/requirements.txt (line 2)) (67.7.2)\n",
            "Requirement already satisfied: termcolor>=1.1.0 in /usr/local/lib/python3.10/dist-packages (from tensorflow->-r /content/drive/MyDrive/requirements.txt (line 2)) (2.4.0)\n",
            "Requirement already satisfied: typing-extensions>=3.6.6 in /usr/local/lib/python3.10/dist-packages (from tensorflow->-r /content/drive/MyDrive/requirements.txt (line 2)) (4.10.0)\n",
            "Requirement already satisfied: wrapt<1.15,>=1.11.0 in /usr/local/lib/python3.10/dist-packages (from tensorflow->-r /content/drive/MyDrive/requirements.txt (line 2)) (1.14.1)\n",
            "Requirement already satisfied: tensorflow-io-gcs-filesystem>=0.23.1 in /usr/local/lib/python3.10/dist-packages (from tensorflow->-r /content/drive/MyDrive/requirements.txt (line 2)) (0.36.0)\n",
            "Requirement already satisfied: grpcio<2.0,>=1.24.3 in /usr/local/lib/python3.10/dist-packages (from tensorflow->-r /content/drive/MyDrive/requirements.txt (line 2)) (1.62.1)\n",
            "Requirement already satisfied: tensorboard<2.16,>=2.15 in /usr/local/lib/python3.10/dist-packages (from tensorflow->-r /content/drive/MyDrive/requirements.txt (line 2)) (2.15.2)\n",
            "Requirement already satisfied: tensorflow-estimator<2.16,>=2.15.0 in /usr/local/lib/python3.10/dist-packages (from tensorflow->-r /content/drive/MyDrive/requirements.txt (line 2)) (2.15.0)\n",
            "Requirement already satisfied: keras<2.16,>=2.15.0 in /usr/local/lib/python3.10/dist-packages (from tensorflow->-r /content/drive/MyDrive/requirements.txt (line 2)) (2.15.0)\n",
            "Requirement already satisfied: click>=6.7 in /usr/local/lib/python3.10/dist-packages (from tf2-yolov4->-r /content/drive/MyDrive/requirements.txt (line 3)) (8.1.7)\n",
            "Collecting tensorflow-addons>=0.9.1 (from tf2-yolov4->-r /content/drive/MyDrive/requirements.txt (line 3))\n",
            "  Downloading tensorflow_addons-0.23.0-cp310-cp310-manylinux_2_17_x86_64.manylinux2014_x86_64.whl (611 kB)\n",
            "\u001b[2K     \u001b[90m━━━━━━━━━━━━━━━━━━━━━━━━━━━━━━━━━━━━━━━━\u001b[0m \u001b[32m611.8/611.8 kB\u001b[0m \u001b[31m57.8 MB/s\u001b[0m eta \u001b[36m0:00:00\u001b[0m\n",
            "\u001b[?25hRequirement already satisfied: contourpy>=1.0.1 in /usr/local/lib/python3.10/dist-packages (from matplotlib->-r /content/drive/MyDrive/requirements.txt (line 4)) (1.2.0)\n",
            "Requirement already satisfied: cycler>=0.10 in /usr/local/lib/python3.10/dist-packages (from matplotlib->-r /content/drive/MyDrive/requirements.txt (line 4)) (0.12.1)\n",
            "Requirement already satisfied: fonttools>=4.22.0 in /usr/local/lib/python3.10/dist-packages (from matplotlib->-r /content/drive/MyDrive/requirements.txt (line 4)) (4.50.0)\n",
            "Requirement already satisfied: kiwisolver>=1.0.1 in /usr/local/lib/python3.10/dist-packages (from matplotlib->-r /content/drive/MyDrive/requirements.txt (line 4)) (1.4.5)\n",
            "Requirement already satisfied: pyparsing>=2.3.1 in /usr/local/lib/python3.10/dist-packages (from matplotlib->-r /content/drive/MyDrive/requirements.txt (line 4)) (3.1.2)\n",
            "Requirement already satisfied: Werkzeug>=2.2.2 in /usr/local/lib/python3.10/dist-packages (from flask->-r /content/drive/MyDrive/requirements.txt (line 8)) (3.0.2)\n",
            "Requirement already satisfied: Jinja2>=3.0 in /usr/local/lib/python3.10/dist-packages (from flask->-r /content/drive/MyDrive/requirements.txt (line 8)) (3.1.3)\n",
            "Requirement already satisfied: itsdangerous>=2.0 in /usr/local/lib/python3.10/dist-packages (from flask->-r /content/drive/MyDrive/requirements.txt (line 8)) (2.1.2)\n",
            "Requirement already satisfied: charset-normalizer<4,>=2 in /usr/local/lib/python3.10/dist-packages (from requests->-r /content/drive/MyDrive/requirements.txt (line 9)) (3.3.2)\n",
            "Requirement already satisfied: idna<4,>=2.5 in /usr/local/lib/python3.10/dist-packages (from requests->-r /content/drive/MyDrive/requirements.txt (line 9)) (3.6)\n",
            "Requirement already satisfied: urllib3<3,>=1.21.1 in /usr/local/lib/python3.10/dist-packages (from requests->-r /content/drive/MyDrive/requirements.txt (line 9)) (2.0.7)\n",
            "Requirement already satisfied: certifi>=2017.4.17 in /usr/local/lib/python3.10/dist-packages (from requests->-r /content/drive/MyDrive/requirements.txt (line 9)) (2024.2.2)\n",
            "Requirement already satisfied: wheel<1.0,>=0.23.0 in /usr/local/lib/python3.10/dist-packages (from astunparse>=1.6.0->tensorflow->-r /content/drive/MyDrive/requirements.txt (line 2)) (0.43.0)\n",
            "Requirement already satisfied: MarkupSafe>=2.0 in /usr/local/lib/python3.10/dist-packages (from Jinja2>=3.0->flask->-r /content/drive/MyDrive/requirements.txt (line 8)) (2.1.5)\n",
            "Requirement already satisfied: google-auth<3,>=1.6.3 in /usr/local/lib/python3.10/dist-packages (from tensorboard<2.16,>=2.15->tensorflow->-r /content/drive/MyDrive/requirements.txt (line 2)) (2.27.0)\n",
            "Requirement already satisfied: google-auth-oauthlib<2,>=0.5 in /usr/local/lib/python3.10/dist-packages (from tensorboard<2.16,>=2.15->tensorflow->-r /content/drive/MyDrive/requirements.txt (line 2)) (1.2.0)\n",
            "Requirement already satisfied: markdown>=2.6.8 in /usr/local/lib/python3.10/dist-packages (from tensorboard<2.16,>=2.15->tensorflow->-r /content/drive/MyDrive/requirements.txt (line 2)) (3.6)\n",
            "Requirement already satisfied: tensorboard-data-server<0.8.0,>=0.7.0 in /usr/local/lib/python3.10/dist-packages (from tensorboard<2.16,>=2.15->tensorflow->-r /content/drive/MyDrive/requirements.txt (line 2)) (0.7.2)\n",
            "Collecting typeguard<3.0.0,>=2.7 (from tensorflow-addons>=0.9.1->tf2-yolov4->-r /content/drive/MyDrive/requirements.txt (line 3))\n",
            "  Downloading typeguard-2.13.3-py3-none-any.whl (17 kB)\n",
            "Requirement already satisfied: cachetools<6.0,>=2.0.0 in /usr/local/lib/python3.10/dist-packages (from google-auth<3,>=1.6.3->tensorboard<2.16,>=2.15->tensorflow->-r /content/drive/MyDrive/requirements.txt (line 2)) (5.3.3)\n",
            "Requirement already satisfied: pyasn1-modules>=0.2.1 in /usr/local/lib/python3.10/dist-packages (from google-auth<3,>=1.6.3->tensorboard<2.16,>=2.15->tensorflow->-r /content/drive/MyDrive/requirements.txt (line 2)) (0.4.0)\n",
            "Requirement already satisfied: rsa<5,>=3.1.4 in /usr/local/lib/python3.10/dist-packages (from google-auth<3,>=1.6.3->tensorboard<2.16,>=2.15->tensorflow->-r /content/drive/MyDrive/requirements.txt (line 2)) (4.9)\n",
            "Requirement already satisfied: requests-oauthlib>=0.7.0 in /usr/local/lib/python3.10/dist-packages (from google-auth-oauthlib<2,>=0.5->tensorboard<2.16,>=2.15->tensorflow->-r /content/drive/MyDrive/requirements.txt (line 2)) (1.3.1)\n",
            "Requirement already satisfied: pyasn1<0.7.0,>=0.4.6 in /usr/local/lib/python3.10/dist-packages (from pyasn1-modules>=0.2.1->google-auth<3,>=1.6.3->tensorboard<2.16,>=2.15->tensorflow->-r /content/drive/MyDrive/requirements.txt (line 2)) (0.6.0)\n",
            "Requirement already satisfied: oauthlib>=3.0.0 in /usr/local/lib/python3.10/dist-packages (from requests-oauthlib>=0.7.0->google-auth-oauthlib<2,>=0.5->tensorboard<2.16,>=2.15->tensorflow->-r /content/drive/MyDrive/requirements.txt (line 2)) (3.2.2)\n",
            "Building wheels for collected packages: bson\n",
            "  Building wheel for bson (setup.py) ... \u001b[?25l\u001b[?25hdone\n",
            "  Created wheel for bson: filename=bson-0.5.10-py3-none-any.whl size=11976 sha256=cb7c563d2bb18403231d09d590c60bd08e51624418c62edfd467bb3ccb6e79ad\n",
            "  Stored in directory: /root/.cache/pip/wheels/36/49/3b/8b33954dfae7a176009c4d721a45af56c8a9c1cdc3ee947945\n",
            "Successfully built bson\n",
            "Installing collected packages: typeguard, python-dotenv, dnspython, tensorflow-addons, bson, tf2-yolov4\n",
            "Successfully installed bson-0.5.10 dnspython-2.5.0 python-dotenv-1.0.1 tensorflow-addons-0.23.0 tf2-yolov4-0.1.0 typeguard-2.13.3\n"
          ]
        }
      ]
    },
    {
      "cell_type": "code",
      "source": [
        "from pyngrok import ngrok\n",
        "\n",
        "# Terminate open tunnels if exist\n",
        "ngrok.kill()\n",
        "\n",
        "# Setting the authtoken (optional)\n",
        "# Get your authtoken from https://dashboard.ngrok.com/auth\n",
        "NGROK_AUTH_TOKEN = \"2eeL3L1gyINdfSIp9Aa6I9iLpgh_7dkwxh9fmV1ASidjxvd6U\"\n",
        "\n",
        "ngrok.set_auth_token(NGROK_AUTH_TOKEN)\n",
        "ngrok.kill()\n",
        "\n",
        "# Open an HTTPs tunnel on port 5000 for http://localhost:5000\n",
        "public_url = ngrok.connect(\"5000\")\n",
        "print(\"Tracking URL:\", public_url)"
      ],
      "metadata": {
        "colab": {
          "base_uri": "https://localhost:8080/",
          "height": 394
        },
        "id": "WVC5F5jZbEbY",
        "outputId": "2b054f97-6341-4a0a-ed41-32cf38bb1051"
      },
      "execution_count": null,
      "outputs": [
        {
          "output_type": "error",
          "ename": "ModuleNotFoundError",
          "evalue": "No module named 'pyngrok'",
          "traceback": [
            "\u001b[0;31m---------------------------------------------------------------------------\u001b[0m",
            "\u001b[0;31mModuleNotFoundError\u001b[0m                       Traceback (most recent call last)",
            "\u001b[0;32m<ipython-input-1-ebfaa99569ba>\u001b[0m in \u001b[0;36m<cell line: 1>\u001b[0;34m()\u001b[0m\n\u001b[0;32m----> 1\u001b[0;31m \u001b[0;32mfrom\u001b[0m \u001b[0mpyngrok\u001b[0m \u001b[0;32mimport\u001b[0m \u001b[0mngrok\u001b[0m\u001b[0;34m\u001b[0m\u001b[0;34m\u001b[0m\u001b[0m\n\u001b[0m\u001b[1;32m      2\u001b[0m \u001b[0;34m\u001b[0m\u001b[0m\n\u001b[1;32m      3\u001b[0m \u001b[0;31m# Terminate open tunnels if exist\u001b[0m\u001b[0;34m\u001b[0m\u001b[0;34m\u001b[0m\u001b[0m\n\u001b[1;32m      4\u001b[0m \u001b[0mngrok\u001b[0m\u001b[0;34m.\u001b[0m\u001b[0mkill\u001b[0m\u001b[0;34m(\u001b[0m\u001b[0;34m)\u001b[0m\u001b[0;34m\u001b[0m\u001b[0;34m\u001b[0m\u001b[0m\n\u001b[1;32m      5\u001b[0m \u001b[0;34m\u001b[0m\u001b[0m\n",
            "\u001b[0;31mModuleNotFoundError\u001b[0m: No module named 'pyngrok'",
            "",
            "\u001b[0;31m---------------------------------------------------------------------------\u001b[0;32m\nNOTE: If your import is failing due to a missing package, you can\nmanually install dependencies using either !pip or !apt.\n\nTo view examples of installing some common dependencies, click the\n\"Open Examples\" button below.\n\u001b[0;31m---------------------------------------------------------------------------\u001b[0m\n"
          ],
          "errorDetails": {
            "actions": [
              {
                "action": "open_url",
                "actionText": "Open Examples",
                "url": "/notebooks/snippets/importing_libraries.ipynb"
              }
            ]
          }
        }
      ]
    },
    {
      "cell_type": "code",
      "execution_count": 4,
      "metadata": {
        "colab": {
          "base_uri": "https://localhost:8080/"
        },
        "id": "ATilPBRCJoVk",
        "outputId": "044e50ea-85a4-458e-9680-e00a71324a4f"
      },
      "outputs": [
        {
          "output_type": "stream",
          "name": "stdout",
          "text": [
            " * Serving Flask app '__main__'\n",
            " * Debug mode: off\n"
          ]
        },
        {
          "output_type": "stream",
          "name": "stderr",
          "text": [
            "INFO:werkzeug:\u001b[31m\u001b[1mWARNING: This is a development server. Do not use it in a production deployment. Use a production WSGI server instead.\u001b[0m\n",
            " * Running on http://127.0.0.1:5000\n",
            "INFO:werkzeug:\u001b[33mPress CTRL+C to quit\u001b[0m\n"
          ]
        },
        {
          "output_type": "stream",
          "name": "stdout",
          "text": [
            "1/1 [==============================] - 7s 7s/step\n",
            "1/1 [==============================] - 0s 180ms/step\n",
            "1/1 [==============================] - 0s 151ms/step\n",
            "1/1 [==============================] - 0s 182ms/step\n"
          ]
        },
        {
          "output_type": "stream",
          "name": "stderr",
          "text": [
            "INFO:werkzeug:127.0.0.1 - - [05/Apr/2024 15:00:28] \"POST /getHighwayCongestion HTTP/1.1\" 200 -\n"
          ]
        },
        {
          "output_type": "stream",
          "name": "stdout",
          "text": [
            "1/1 [==============================] - 0s 191ms/step\n",
            "1/1 [==============================] - 0s 167ms/step\n",
            "1/1 [==============================] - 0s 168ms/step\n",
            "1/1 [==============================] - 0s 148ms/step\n"
          ]
        },
        {
          "output_type": "stream",
          "name": "stderr",
          "text": [
            "INFO:werkzeug:127.0.0.1 - - [05/Apr/2024 15:00:51] \"POST /getHighwayCongestion HTTP/1.1\" 200 -\n"
          ]
        },
        {
          "output_type": "stream",
          "name": "stdout",
          "text": [
            "1/1 [==============================] - 0s 182ms/step\n",
            "1/1 [==============================] - 0s 179ms/step\n",
            "1/1 [==============================] - 0s 144ms/step\n",
            "1/1 [==============================] - 0s 143ms/step\n",
            "1/1 [==============================] - 0s 142ms/step\n"
          ]
        },
        {
          "output_type": "stream",
          "name": "stderr",
          "text": [
            "INFO:werkzeug:127.0.0.1 - - [05/Apr/2024 15:01:23] \"POST /getHighwayCongestion HTTP/1.1\" 200 -\n"
          ]
        },
        {
          "output_type": "stream",
          "name": "stdout",
          "text": [
            "1/1 [==============================] - 0s 182ms/step\n"
          ]
        },
        {
          "output_type": "stream",
          "name": "stderr",
          "text": [
            "INFO:werkzeug:127.0.0.1 - - [05/Apr/2024 15:02:04] \"POST /getHighwayCongestion HTTP/1.1\" 200 -\n"
          ]
        },
        {
          "output_type": "stream",
          "name": "stdout",
          "text": [
            "1/1 [==============================] - 0s 177ms/step\n",
            "1/1 [==============================] - 0s 143ms/step\n",
            "1/1 [==============================] - 0s 141ms/step\n",
            "1/1 [==============================] - 0s 166ms/step\n"
          ]
        },
        {
          "output_type": "stream",
          "name": "stderr",
          "text": [
            "INFO:werkzeug:127.0.0.1 - - [05/Apr/2024 15:02:27] \"POST /getHighwayCongestion HTTP/1.1\" 200 -\n"
          ]
        },
        {
          "output_type": "stream",
          "name": "stdout",
          "text": [
            "1/1 [==============================] - 0s 177ms/step\n",
            "1/1 [==============================] - 0s 142ms/step\n",
            "1/1 [==============================] - 0s 145ms/step\n",
            "1/1 [==============================] - 0s 145ms/step\n",
            "1/1 [==============================] - 0s 136ms/step\n",
            "1/1 [==============================] - 0s 169ms/step\n"
          ]
        },
        {
          "output_type": "stream",
          "name": "stderr",
          "text": [
            "INFO:werkzeug:127.0.0.1 - - [05/Apr/2024 15:03:03] \"POST /getHighwayCongestion HTTP/1.1\" 200 -\n"
          ]
        },
        {
          "output_type": "stream",
          "name": "stdout",
          "text": [
            "1/1 [==============================] - 0s 181ms/step\n",
            "1/1 [==============================] - 0s 179ms/step\n",
            "1/1 [==============================] - 0s 151ms/step\n",
            "1/1 [==============================] - 0s 142ms/step\n",
            "1/1 [==============================] - 0s 154ms/step\n"
          ]
        },
        {
          "output_type": "stream",
          "name": "stderr",
          "text": [
            "INFO:werkzeug:127.0.0.1 - - [05/Apr/2024 15:03:55] \"POST /getHighwayCongestion HTTP/1.1\" 200 -\n"
          ]
        },
        {
          "output_type": "stream",
          "name": "stdout",
          "text": [
            "1/1 [==============================] - 0s 179ms/step\n",
            "1/1 [==============================] - 0s 144ms/step\n",
            "1/1 [==============================] - 0s 178ms/step\n"
          ]
        },
        {
          "output_type": "stream",
          "name": "stderr",
          "text": [
            "INFO:werkzeug:127.0.0.1 - - [05/Apr/2024 15:04:14] \"POST /getHighwayCongestion HTTP/1.1\" 200 -\n"
          ]
        },
        {
          "output_type": "stream",
          "name": "stdout",
          "text": [
            "1/1 [==============================] - 0s 174ms/step\n",
            "1/1 [==============================] - 0s 144ms/step\n",
            "1/1 [==============================] - 0s 141ms/step\n",
            "1/1 [==============================] - 0s 174ms/step\n"
          ]
        },
        {
          "output_type": "stream",
          "name": "stderr",
          "text": [
            "INFO:werkzeug:127.0.0.1 - - [05/Apr/2024 15:04:39] \"POST /getHighwayCongestion HTTP/1.1\" 200 -\n"
          ]
        }
      ],
      "source": [
        "from flask import render_template, request, redirect, flash, url_for, Response, jsonify, Flask\n",
        "from bson import ObjectId\n",
        "from flask_cors import CORS\n",
        "from datetime import datetime\n",
        "import tensorflow as tf\n",
        "from tf2_yolov4.anchors import YOLOV4_ANCHORS\n",
        "from tf2_yolov4.model import YOLOv4\n",
        "import json\n",
        "import cv2\n",
        "import numpy as np\n",
        "from io import BytesIO\n",
        "from PIL import Image\n",
        "import requests\n",
        "import os\n",
        "WIDTH, HEIGHT = (1024, 768)\n",
        "app = Flask(__name__)\n",
        "model = YOLOv4(\n",
        "    input_shape=(HEIGHT, WIDTH, 3),\n",
        "    anchors=YOLOV4_ANCHORS,\n",
        "    num_classes=80,\n",
        "    training=False,\n",
        "    yolo_max_boxes=100,\n",
        "    yolo_iou_threshold=0.5,\n",
        "    yolo_score_threshold=0.30,\n",
        ")\n",
        "model.load_weights('/content/drive/MyDrive/Colab Notebooks/yolov4.h5')\n",
        "\n",
        "highway401 = [\n",
        "    'https://511on.ca/map/Cctv/loc21--2',\n",
        "    'https://511on.ca/map/Cctv/loc51--2',\n",
        "    'https://511on.ca/map/Cctv/loc52--2',\n",
        "    'https://511on.ca/map/Cctv/loc21--2'\n",
        "    ]\n",
        "\n",
        "highway403 = [\n",
        "    'https://511on.ca/map/Cctv/loc122--2',\n",
        "    'https://511on.ca/map/Cctv/loc75--3',\n",
        "    'https://511on.ca/map/Cctv/loc44--2',\n",
        "    'https://511on.ca/map/Cctv/loc72--3'\n",
        "]\n",
        "\n",
        "highway404 = [\n",
        "    'https://511on.ca/map/Cctv/loc138--2',\n",
        "    'https://511on.ca/map/Cctv/loc55--2',\n",
        "    'https://511on.ca/map/Cctv/loc141--2',\n",
        "    'https://511on.ca/map/Cctv/loc136--2',\n",
        "    'https://511on.ca/map/Cctv/loc140--2'\n",
        "]\n",
        "\n",
        "highway405 = [\n",
        "    'https://511on.ca/map/Cctv/loc96--3'\n",
        "]\n",
        "\n",
        "\n",
        "\n",
        "highway410 = [\n",
        "    'https://511on.ca/map/Cctv/loc75--2',\n",
        "    'https://511on.ca/map/Cctv/loc827--2',\n",
        "    'https://511on.ca/map/Cctv/loc825--2',\n",
        "    'https://511on.ca/map/Cctv/loc826--2'\n",
        "]\n",
        "\n",
        "\n",
        "highway427=[\n",
        "    'https://511on.ca/map/Cctv/loc701--2',\n",
        "    'https://511on.ca/map/Cctv/loc702--2',\n",
        "    'https://511on.ca/map/Cctv/loc703--2',\n",
        "    'https://511on.ca/map/Cctv/loc718--2',\n",
        "    'https://511on.ca/map/Cctv/loc725--2',\n",
        "    'https://511on.ca/map/Cctv/loc46--3'\n",
        "]\n",
        "\n",
        "highwayQEW = [\n",
        "    'https://511on.ca/map/Cctv/loc47--3',\n",
        "    'https://511on.ca/map/Cctv/loc62--3',\n",
        "    'https://511on.ca/map/Cctv/loc13--3',\n",
        "    'https://511on.ca/map/Cctv/loc12--3',\n",
        "    'https://511on.ca/map/Cctv/loc88--3'\n",
        "]\n",
        "\n",
        "highwayDVP = [\n",
        "    'https://511on.ca/map/Cctv/mrr40fdbg1j--8',\n",
        "    'https://511on.ca/map/Cctv/c3o4iglkxvw--8',\n",
        "    'https://511on.ca/map/Cctv/loc57--2'\n",
        "]\n",
        "\n",
        "highwayGEW = [\n",
        "    'https://511on.ca/map/Cctv/loc541--4',\n",
        "    'https://511on.ca/map/Cctv/loc540--4',\n",
        "    'https://511on.ca/map/Cctv/rf0j5dillxs--8',\n",
        "    'https://511on.ca/map/Cctv/ac5ob4w4spc--8'\n",
        "]\n",
        "\n",
        "highway_data = {\n",
        "    \"401\": highway401,\n",
        "    \"403\": highway403,\n",
        "    \"404\": highway404,\n",
        "    \"405\": highway405,\n",
        "    \"410\": highway410,\n",
        "    \"427\": highway427,\n",
        "    \"QEW\": highwayQEW,\n",
        "    \"DVP\": highwayDVP,\n",
        "    \"GEW\": highwayGEW\n",
        "}\n",
        "\n",
        "def load_image_to_tensor(file):\n",
        "    # load image\n",
        "    image = tf.io.read_file(file)\n",
        "    # detect format (JPEG, PNG, BMP, or GIF) and converts to Tensor:\n",
        "    image = tf.io.decode_image(image)\n",
        "    return image\n",
        "\n",
        "def resize_image(image):\n",
        "    # Resize the output_image:\n",
        "    image = tf.image.resize(image, (HEIGHT, WIDTH))\n",
        "    # Add a batch dim:\n",
        "    images = tf.expand_dims(image, axis=0)/255\n",
        "    return images\n",
        "\n",
        "def proccess_frame(photo, input_photo):\n",
        "    images = resize_image(photo)\n",
        "    boxes, scores, classes, detections = model.predict(images)\n",
        "    result_img = detected_photo(boxes, scores, classes, detections,images[0],input_photo)\n",
        "    return result_img\n",
        "\n",
        "\n",
        "def detected_photo(boxes, scores, classes, detections,image,input_photo):\n",
        "    boxes = (boxes[0] * [WIDTH, HEIGHT, WIDTH, HEIGHT]).astype(int)\n",
        "    scores = scores[0]\n",
        "    classes = classes[0].astype(int)\n",
        "    detections = detections[0]\n",
        "\n",
        "    CLASSES = [\n",
        "        'person', 'bicycle', 'car', 'motorcycle', 'airplane', 'bus', 'train', 'truck',\n",
        "        'boat', 'traffic light', 'fire hydrant', 'stop sign', 'parking meter', 'bench',\n",
        "        'bird', 'cat', 'dog', 'horse', 'sheep', 'cow', 'elephant', 'bear', 'zebra',\n",
        "        'giraffe', 'backpack', 'umbrella', 'handbag', 'tie', 'suitcase', 'frisbee',\n",
        "        'skis', 'snowboard', 'sports ball', 'kite', 'baseball bat', 'baseball glove',\n",
        "        'skateboard', 'surfboard', 'tennis racket', 'bottle', 'wine glass', 'cup', 'fork',\n",
        "        'knife', 'spoon', 'bowl', 'banana', 'apple', 'sandwich', 'orange', 'broccoli',\n",
        "        'carrot', 'hot dog', 'pizza', 'donut', 'cake', 'chair', 'couch', 'potted plant',\n",
        "        'bed', 'dining table', 'toilet', 'tv', 'laptop', 'mouse', 'remote', 'keyboard',\n",
        "        'cell phone', 'microwave', 'oven', 'toaster', 'sink', 'refrigerator', 'book',\n",
        "        'clock', 'vase', 'scissors', 'teddy bear', 'hair drier', 'toothbrush'\n",
        "    ]\n",
        "\n",
        "    objects ={}\n",
        "    obj_counter = 1\n",
        "    image_cv = image.numpy()\n",
        "\n",
        "    for (xmin, ymin, xmax, ymax), score, class_idx in zip(boxes, scores, classes):\n",
        "\n",
        "        if score > 0:\n",
        "            if class_idx == 2 or class_idx == 5 or class_idx == 7:         # show bounding box only to the \"car,bus,truck\" class\n",
        "\n",
        "                #### Draw a rectangle ##################\n",
        "                # convert from tf.Tensor to numpy\n",
        "                cv2.rectangle(image_cv, (int(xmin), int(ymin)), (int(xmax), int(ymax)), (0,255,0), thickness= 2)\n",
        "                # Add detection text to the prediction\n",
        "                text = CLASSES[class_idx] + ': {0:.2f}'.format(score)\n",
        "                cv2.putText(image_cv, text, (int(xmin), int(ymin) - 5),\n",
        "                        cv2.FONT_HERSHEY_SIMPLEX, 0.5, (0,255,0), 2)\n",
        "                bounding_box = {\n",
        "                    'xmin': int(xmin),\n",
        "                    'ymin': int(ymin),\n",
        "                    'xmax': int(xmax),\n",
        "                    'ymax': int(ymax)\n",
        "                }\n",
        "                objects[f'Object{\" \"+str(obj_counter)}, bounding box'] = bounding_box\n",
        "                obj_counter  += 1\n",
        "    return objects\n",
        "\n",
        "def calculate_roi_area(roi_coordinates):\n",
        "    # Calculate area of the ROI defined by three points\n",
        "    x1, y1 = roi_coordinates[0]\n",
        "    x2, y2 = roi_coordinates[1]\n",
        "    x3, y3 = roi_coordinates[2]\n",
        "\n",
        "    area = abs((x1*(y2-y3) + x2*(y3-y1) + x3*(y1-y2)) / 2)\n",
        "    return area\n",
        "\n",
        "def calculate_roi_coordinates(bounding_boxes_data):\n",
        "\n",
        "    if len(bounding_boxes_data)<5:\n",
        "        roi_coordinates = [\n",
        "            (0, 0),  # Bottom-left\n",
        "            (0, 0),  # Bottom-right\n",
        "            (0, 0)  # Top-middle\n",
        "        ]\n",
        "        return  roi_coordinates, len(bounding_boxes_data)\n",
        "\n",
        "    all_x_coordinates = []\n",
        "    all_y_coordinates = []\n",
        "\n",
        "    # Parse bounding box data and collect all x and y coordinates\n",
        "    for object_data in bounding_boxes_data.values():\n",
        "        xmin = object_data[\"xmin\"]\n",
        "        ymin = object_data[\"ymin\"]\n",
        "        xmax = object_data[\"xmax\"]\n",
        "        ymax = object_data[\"ymax\"]\n",
        "\n",
        "        all_x_coordinates.extend([xmin, xmax])\n",
        "        all_y_coordinates.extend([ymin, ymax])\n",
        "    # Find extreme points\n",
        "    min_x = min(all_x_coordinates)\n",
        "    max_x = max(all_x_coordinates)\n",
        "    min_y = min(all_y_coordinates)\n",
        "    max_y = max(all_y_coordinates)\n",
        "\n",
        "\n",
        "    if (len(bounding_boxes_data) <= 20):\n",
        "        min_y = max(0,min_y-(0.1*min_y))\n",
        "        max_y = min(768,max_y+(0.1*(max_y)))\n",
        "    # Define ROI points: 2 at min y and 1 at max y\n",
        "    roi_coordinates = [\n",
        "        (min_x, min_y),  # Bottom-left\n",
        "        (max_x, min_y),  # Bottom-right\n",
        "        ((min_x + max_x) / 2, max_y)  # Top-middle\n",
        "    ]\n",
        "\n",
        "    return roi_coordinates, len(bounding_boxes_data)\n",
        "\n",
        "def calculate_intersection_area(box, roi):\n",
        "    # Calculate the intersection area between a bounding box and the ROI\n",
        "    x_min = max(box[0], roi[0][0])\n",
        "    y_min = max(box[1], roi[0][1])\n",
        "    x_max = min(box[2], roi[1][0])\n",
        "    y_max = min(box[3], roi[2][1])\n",
        "\n",
        "    if x_max <= x_min or y_max <= y_min:\n",
        "        return 0\n",
        "    else:\n",
        "        return (x_max - x_min) * (y_max - y_min)\n",
        "\n",
        "def calculate_coverage_and_total_area(bounding_boxes_data, roi_coordinates):\n",
        "    total_area_covered = 0\n",
        "    for object_data in bounding_boxes_data.values():\n",
        "        box = (object_data[\"xmin\"], object_data[\"ymin\"], object_data[\"xmax\"], object_data[\"ymax\"])\n",
        "        intersection_area = calculate_intersection_area(box, roi_coordinates)\n",
        "        total_area_covered += intersection_area\n",
        "\n",
        "    roi_area = calculate_roi_area(roi_coordinates)\n",
        "    coverage_percentage = (total_area_covered / roi_area) * 100 if roi_area > 0 else 0\n",
        "\n",
        "    return roi_area, coverage_percentage\n",
        "\n",
        "def read_bounding_boxes_from_txt(file_path):\n",
        "    try:\n",
        "        with open(file_path, 'r') as file:\n",
        "            bounding_boxes_data = json.load(file)\n",
        "        return bounding_boxes_data\n",
        "    except FileNotFoundError:\n",
        "        print(\"File not found.\")\n",
        "        return None\n",
        "    except json.JSONDecodeError:\n",
        "        print(\"Error decoding JSON.\")\n",
        "        return None\n",
        "\n",
        "def get_coverage_data(url):\n",
        "    response = requests.get(url)\n",
        "    # Check if request was successful\n",
        "    if response.status_code == 200:\n",
        "        # Read the content of the response as bytes\n",
        "        image_bytes = BytesIO(response.content)\n",
        "\n",
        "        # Open the image using PIL\n",
        "        image = Image.open(image_bytes)\n",
        "\n",
        "        # Display the image\n",
        "        image_path = \"image.jpg\"\n",
        "        image.save(image_path)\n",
        "    imagefile = 'image.jpg'\n",
        "\n",
        "    my_image = load_image_to_tensor(imagefile)\n",
        "    #Get trained yolov4 model\n",
        "    image = proccess_frame(my_image,imagefile)\n",
        "    roi, numberCars =calculate_roi_coordinates(image)\n",
        "    os.remove(image_path)\n",
        "    if all(coord == (0, 0) for coord in roi):\n",
        "        return {\n",
        "            'data':(0,0),\n",
        "            'cars':numberCars\n",
        "        }\n",
        "    return {\n",
        "        \"data\": calculate_coverage_and_total_area(image,roi),\n",
        "        \"cars\": numberCars\n",
        "    }\n",
        "\n",
        "@app.route(\"/getHighwayCongestion\",methods={'POST'})\n",
        "def getHighwayCongestion():\n",
        "    request_data = request.get_json()\n",
        "    highway = request_data['highway']\n",
        "    data = []\n",
        "    if not highway in highway_data:\n",
        "        return {\n",
        "            'data': \"Cameras not available\",\n",
        "            'message':'Invalid highway in database'\n",
        "        },400\n",
        "    try:\n",
        "        if highway in highway_data:\n",
        "            urls = highway_data[highway]\n",
        "            for url in urls:\n",
        "                coverage_percentage = get_coverage_data(url)\n",
        "                data.append(coverage_percentage)\n",
        "    except Exception as e:\n",
        "        return {\n",
        "                \"message\": \"failed to run cv\",\n",
        "            }, 501\n",
        "    sum_x = 0\n",
        "    sum_y = 0\n",
        "    count = 0\n",
        "    minus_confidence=0\n",
        "    # Calculate sum of x and y coordinates\n",
        "    for item in data:\n",
        "        x, y = item[\"data\"]\n",
        "        cars = item[\"cars\"]\n",
        "        if cars > 20:\n",
        "            sum_x += x\n",
        "            sum_y += y\n",
        "            count +=1\n",
        "        if cars > 9 and cars <= 20:\n",
        "            sum_x += x\n",
        "            sum_y += y*0.75\n",
        "            count +=1\n",
        "        if cars > 4 and cars <= 5:\n",
        "            sum_x += x\n",
        "            sum_y += y*0.5\n",
        "            count +=1\n",
        "        if cars == 0:\n",
        "            minus_confidence+=1\n",
        "            count+=1\n",
        "\n",
        "    # Calculate average x and y coordinates\n",
        "    if count-minus_confidence > 0:\n",
        "        average_x = sum_x / (count-minus_confidence)\n",
        "        average_y = sum_y / (count-minus_confidence)\n",
        "    else:\n",
        "        average_x = WIDTH*HEIGHT*0.25\n",
        "        average_y = 0\n",
        "    confidence = min(average_x/(WIDTH*HEIGHT*0.25),1)\n",
        "    if count == 0:\n",
        "        return {\n",
        "            \"data\":(average_y,confidence),\n",
        "            \"message\":\"<30 indicate low, 30~45 indicate mild, 45%+ indicate high\"\n",
        "        },200\n",
        "\n",
        "    if minus_confidence/count+minus_confidence > 0.4 and minus_confidence > 0:\n",
        "        return {\n",
        "            \"data\":(0,0),\n",
        "            \"message\":\"Road conditions too rough for CV\"\n",
        "        }, 200\n",
        "    return {\n",
        "        \"data\":(average_y,confidence),\n",
        "        \"message\":\"<30 indicate low, 30~45 indicate mild, 45%+ indicate high\"\n",
        "    },200\n",
        "CORS(app)\n",
        "app.run()\n"
      ]
    }
  ]
}